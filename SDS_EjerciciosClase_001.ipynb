{
  "nbformat": 4,
  "nbformat_minor": 0,
  "metadata": {
    "colab": {
      "provenance": [],
      "include_colab_link": true
    },
    "kernelspec": {
      "name": "python3",
      "display_name": "Python 3"
    },
    "language_info": {
      "name": "python"
    }
  },
  "cells": [
    {
      "cell_type": "markdown",
      "metadata": {
        "id": "view-in-github",
        "colab_type": "text"
      },
      "source": [
        "<a href=\"https://colab.research.google.com/github/andresdiazf/andresdiazf.github.io/blob/main/SDS_EjerciciosClase_001.ipynb\" target=\"_parent\"><img src=\"https://colab.research.google.com/assets/colab-badge.svg\" alt=\"Open In Colab\"/></a>"
      ]
    },
    {
      "cell_type": "markdown",
      "source": [
        "# **PRACTICA 001**\n",
        "\n",
        "---\n",
        "\n"
      ],
      "metadata": {
        "id": "-ojHzM8Cbde8"
      }
    },
    {
      "cell_type": "code",
      "execution_count": null,
      "metadata": {
        "id": "nUtBxRAGXTSN"
      },
      "outputs": [],
      "source": [
        "# Ejemplo simple de autenticación y autorización en Python\n",
        "usuarios = {\n",
        "    'usuario1': {'contraseña': '12345', 'rol': 'usuario'},\n",
        "    'admin1': {'contraseña': 'adminpass', 'rol': 'admin'}\n",
        "}\n",
        "\n",
        "def iniciar_sesion(nombre_usuario, contraseña_ingresada):\n",
        "    if nombre_usuario in usuarios and usuarios[nombre_usuario]['contraseña'] == contraseña_ingresada:\n",
        "        return True\n",
        "    else:\n",
        "        return False\n",
        "\n",
        "def verificar_acceso(nombre_usuario, recurso):\n",
        "    if nombre_usuario in usuarios and usuarios[nombre_usuario]['rol'] == 'admin':\n",
        "        return True\n",
        "    elif nombre_usuario in usuarios and usuarios[nombre_usuario]['rol'] == 'usuario' and recurso == 'recurso_publico':\n",
        "        return True\n",
        "    else:\n",
        "        return False\n"
      ]
    },
    {
      "cell_type": "code",
      "source": [
        "# Ejemplo simple de autenticación y autorización en Python\n",
        "usuarios = {\n",
        "    'usuario1': {'contraseña': '12345', 'rol': 'usuario'},\n",
        "    'admin1': {'contraseña': 'adminpass', 'rol': 'admin'}\n",
        "}\n",
        "\n",
        "def iniciar_sesion(nombre_usuario, contraseña_ingresada):\n",
        "    if nombre_usuario in usuarios and usuarios[nombre_usuario]['contraseña'] == contraseña_ingresada:\n",
        "        return True\n",
        "    else:\n",
        "        return False\n",
        "\n",
        "def verificar_acceso(nombre_usuario, recurso):\n",
        "    if nombre_usuario in usuarios and usuarios[nombre_usuario]['rol'] == 'admin':\n",
        "        return True\n",
        "    elif nombre_usuario in usuarios and usuarios[nombre_usuario]['rol'] == 'usuario' and recurso == 'recurso_publico':\n",
        "        return True\n",
        "    else:\n",
        "        return False\n",
        "\n",
        "# Prueba de las funciones\n",
        "\n",
        "nombre_usuario = input('Ingresa tu nombre de usuario: ')\n",
        "contraseña_ingresada = input('Ingresa tu contraseña: ')\n",
        "\n",
        "if iniciar_sesion(nombre_usuario, contraseña_ingresada):\n",
        "    print('Inicio de sesión exitoso.')\n",
        "    recurso = input('Ingresa el recurso al que quieres acceder: ')\n",
        "    if verificar_acceso(nombre_usuario, recurso):\n",
        "        print('Acceso concedido.')\n",
        "    else:\n",
        "        print('Acceso denegado.')\n",
        "else:\n",
        "    print('Inicio de sesión fallido.')\n"
      ],
      "metadata": {
        "id": "WBfDs5ypYeRk",
        "colab": {
          "base_uri": "https://localhost:8080/"
        },
        "outputId": "aee45341-58d3-4d1a-be9b-52d27c67370f"
      },
      "execution_count": null,
      "outputs": [
        {
          "output_type": "stream",
          "name": "stdout",
          "text": [
            "Ingresa tu nombre de usuario: julio\n",
            "Ingresa tu contraseña: 6789\n",
            "Inicio de sesión fallido.\n"
          ]
        }
      ]
    },
    {
      "cell_type": "markdown",
      "source": [
        "# **PRACTICA 002**\n",
        "\n",
        "---\n",
        "\n"
      ],
      "metadata": {
        "id": "3ccUPx8Wbi-1"
      }
    },
    {
      "cell_type": "code",
      "source": [
        "import re\n",
        "\n",
        "def validar_correo_electronico(correo):\n",
        "    patron = r'^[a-zA-Z0-9._%+-]+@[a-zA-Z0-9.-]+\\.[a-zA-Z]{2,}$'\n",
        "    if re.match(patron, correo):\n",
        "        return True\n",
        "    else:\n",
        "        return False\n",
        "\n",
        "# Uso de la función\n",
        "correo_electronico = \"ejemplo@dominio.com\"\n",
        "if validar_correo_electronico(correo_electronico):\n",
        "    print(\"El correo electrónico es válido.\")\n",
        "else:\n",
        "    print(\"El correo electrónico no es válido.\")"
      ],
      "metadata": {
        "colab": {
          "base_uri": "https://localhost:8080/"
        },
        "id": "oD2lkLrjbCF-",
        "outputId": "28169b5f-00b3-406a-a638-1a8f2f12021a"
      },
      "execution_count": null,
      "outputs": [
        {
          "output_type": "stream",
          "name": "stdout",
          "text": [
            "El correo electrónico es válido.\n"
          ]
        }
      ]
    },
    {
      "cell_type": "markdown",
      "source": [
        "# **PRACTICA 003**\n",
        "\n",
        "---\n",
        "\n"
      ],
      "metadata": {
        "id": "QdwSK-2hdBLy"
      }
    },
    {
      "cell_type": "code",
      "source": [
        "from cryptography.fernet import Fernet\n",
        "\n",
        "# Generar una clave de encriptación\n",
        "clave = Fernet.generate_key()\n",
        "cipher_suite = Fernet(clave)\n",
        "\n",
        "# Mensaje a encriptar\n",
        "mensaje = \"Este es un mensaje de amgie rodriguez y luz flores secreto inial.\".encode()\n",
        "\n",
        "# Encriptar el mensaje\n",
        "mensaje_encriptado = cipher_suite.encrypt(mensaje)\n",
        "\n",
        "# Desencriptar el mensaje\n",
        "mensaje_desencriptado = cipher_suite.decrypt(mensaje_encriptado)\n",
        "\n",
        "print(\"Mensaje encriptado:\", mensaje_encriptado)\n",
        "print(\"Mensaje desencriptado:\", mensaje_desencriptado.decode())\n"
      ],
      "metadata": {
        "id": "-TOBXz34dFB6",
        "outputId": "52f5fc06-d1ab-447e-fd42-364c90f13424",
        "colab": {
          "base_uri": "https://localhost:8080/"
        }
      },
      "execution_count": null,
      "outputs": [
        {
          "output_type": "stream",
          "name": "stdout",
          "text": [
            "Mensaje encriptado: b'gAAAAABlqwZimuSV4WbXYoV1tSereZDpLIkXnH1ozJHcboxdsEuL4sFlSKEmzBB7RAKLAqdDrtOFR07YfcETfXwb2dhiwAdQXfCxovaVR8RKpAr3FkZQBj1ewIpEViBh8Wi4d4bXHqGmdFnOCrTeudquEGNtE7WWryDxViI6srrkSs_SIoeJ40k='\n",
            "Mensaje desencriptado: Este es un mensaje de amgie rodriguez y luz flores secreto inial.\n"
          ]
        }
      ]
    },
    {
      "cell_type": "markdown",
      "source": [
        "# **PRACTICA 004**\n",
        "\n",
        "---\n",
        "\n"
      ],
      "metadata": {
        "id": "del2zibQxVMs"
      }
    },
    {
      "cell_type": "code",
      "source": [
        "# CREA CONTRASEÑAS\n",
        "import random\n",
        "import string\n",
        "import os\n",
        "with open('z1.florez', 'w') as f:\n",
        "    for _ in range(100):\n",
        "        password = ''.join(random.choice(string.ascii_letters + string.digits) for _ in range(8))\n",
        "        f.write(password + ':')"
      ],
      "metadata": {
        "id": "mFNFRjtqy7zb"
      },
      "execution_count": null,
      "outputs": []
    },
    {
      "cell_type": "code",
      "source": [
        "import os\n",
        "\n",
        "def verificar_contraseñas_seguras():\n",
        "    with open('/content/z1.txt', 'r') as archivo:\n",
        "        lineas = archivo.readlines()\n",
        "        for linea in lineas:\n",
        "            campos = linea.split(':')\n",
        "            usuario = campos[0]\n",
        "            contraseña = campos[1]\n",
        "\n",
        "            if len(contraseña) < 8:\n",
        "                print(f\"La contraseña para el usuario {usuario} es demasiado corta.\")\n",
        "\n",
        "\n",
        "\n",
        "# Ejecutar la función de auditoría\n",
        "verificar_contraseñas_seguras()\n"
      ],
      "metadata": {
        "colab": {
          "base_uri": "https://localhost:8080/"
        },
        "id": "S-W_c6PsxZvM",
        "outputId": "6544ea57-f9d3-484d-fba0-fd75403a26d0"
      },
      "execution_count": null,
      "outputs": [
        {
          "output_type": "stream",
          "name": "stdout",
          "text": [
            "La contraseña para el usuario KBlkLri6 es demasiado corta.\n"
          ]
        }
      ]
    },
    {
      "cell_type": "markdown",
      "source": [
        "# **PRACTICA 005**\n",
        "\n",
        "---\n",
        "\n",
        "Este ejemplo ilustra cómo DevSecOps automatiza las pruebas de seguridad en cada etapa del proceso de desarrollo, asegurando que las vulnerabilidades se identifiquen y aborden tempranamente. Esto reduce el riesgo de problemas de seguridad en la versión final del software."
      ],
      "metadata": {
        "id": "PI4VSlVw2HiH"
      }
    },
    {
      "cell_type": "code",
      "source": [
        "pipeline:\n",
        "  stages:\n",
        "    - build\n",
        "    - security_scan: # Etapa de análisis estático de código\n",
        "        script:\n",
        "          - security-scanner --project my-app\n",
        "        when: always # Ejecutar siempre, independientemente del resultado de la construcción\n",
        "    - deploy\n"
      ],
      "metadata": {
        "id": "nxw0wR3_2K2h"
      },
      "execution_count": null,
      "outputs": []
    }
  ]
}